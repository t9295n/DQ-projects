{
 "cells": [
  {
   "cell_type": "markdown",
   "metadata": {},
   "source": [
    "## Finding the Best Markets to Advertise In\n",
    "\n",
    "We assume we're working for a company that offers several courses (but mainly of web and mobile development). We want to promote the product and want to choose the best markets to advertise in. "
   ]
  },
  {
   "cell_type": "code",
   "execution_count": 54,
   "metadata": {
    "collapsed": false
   },
   "outputs": [
    {
     "name": "stdout",
     "output_type": "stream",
     "text": [
      "(18175, 136)\n",
      "Index(['Age', 'AttendedBootcamp', 'BootcampFinish', 'BootcampLoanYesNo',\n",
      "       'BootcampName', 'BootcampRecommend', 'ChildrenNumber', 'CityPopulation',\n",
      "       'CodeEventConferences', 'CodeEventDjangoGirls',\n",
      "       ...\n",
      "       'YouTubeFCC', 'YouTubeFunFunFunction', 'YouTubeGoogleDev',\n",
      "       'YouTubeLearnCode', 'YouTubeLevelUpTuts', 'YouTubeMIT',\n",
      "       'YouTubeMozillaHacks', 'YouTubeOther', 'YouTubeSimplilearn',\n",
      "       'YouTubeTheNewBoston'],\n",
      "      dtype='object', length=136)\n"
     ]
    }
   ],
   "source": [
    "import pandas as pd\n",
    "import matplotlib.pyplot as plt\n",
    "%matplotlib inline  \n",
    "\n",
    "data = pd.read_csv('2017-fCC-New-Coders-Survey-Data.csv', low_memory=False)\n",
    "print(data.shape)\n",
    "print(data.columns)"
   ]
  },
  {
   "cell_type": "code",
   "execution_count": 55,
   "metadata": {
    "collapsed": false,
    "scrolled": true
   },
   "outputs": [
    {
     "data": {
      "text/plain": [
       "Full-Stack Web Developer                                                                                                                                                                                                                               11.770595\n",
       "  Front-End Web Developer                                                                                                                                                                                                                               6.435927\n",
       "  Data Scientist                                                                                                                                                                                                                                        2.173913\n",
       "Back-End Web Developer                                                                                                                                                                                                                                  2.030892\n",
       "  Mobile Developer                                                                                                                                                                                                                                      1.673341\n",
       "Game Developer                                                                                                                                                                                                                                          1.630435\n",
       "Information Security                                                                                                                                                                                                                                    1.315789\n",
       "Full-Stack Web Developer,   Front-End Web Developer                                                                                                                                                                                                     0.915332\n",
       "  Front-End Web Developer, Full-Stack Web Developer                                                                                                                                                                                                     0.800915\n",
       "  Product Manager                                                                                                                                                                                                                                       0.786613\n",
       "Data Engineer                                                                                                                                                                                                                                           0.758009\n",
       "  User Experience Designer                                                                                                                                                                                                                              0.743707\n",
       "  User Experience Designer,   Front-End Web Developer                                                                                                                                                                                                   0.614989\n",
       "  Front-End Web Developer, Back-End Web Developer, Full-Stack Web Developer                                                                                                                                                                             0.557780\n",
       "Back-End Web Developer, Full-Stack Web Developer,   Front-End Web Developer                                                                                                                                                                             0.514874\n",
       "Back-End Web Developer,   Front-End Web Developer, Full-Stack Web Developer                                                                                                                                                                             0.514874\n",
       "  DevOps / SysAdmin                                                                                                                                                                                                                                     0.514874\n",
       "Full-Stack Web Developer,   Front-End Web Developer, Back-End Web Developer                                                                                                                                                                             0.443364\n",
       "  Front-End Web Developer, Full-Stack Web Developer, Back-End Web Developer                                                                                                                                                                             0.429062\n",
       "Full-Stack Web Developer,   Mobile Developer                                                                                                                                                                                                            0.414760\n",
       "  Front-End Web Developer,   User Experience Designer                                                                                                                                                                                                   0.414760\n",
       "Back-End Web Developer, Full-Stack Web Developer                                                                                                                                                                                                        0.386156\n",
       "Full-Stack Web Developer, Back-End Web Developer                                                                                                                                                                                                        0.371854\n",
       "Back-End Web Developer,   Front-End Web Developer                                                                                                                                                                                                       0.286041\n",
       "Data Engineer,   Data Scientist                                                                                                                                                                                                                         0.271739\n",
       "Full-Stack Web Developer, Back-End Web Developer,   Front-End Web Developer                                                                                                                                                                             0.271739\n",
       "  Front-End Web Developer,   Mobile Developer                                                                                                                                                                                                           0.257437\n",
       "Full-Stack Web Developer,   Data Scientist                                                                                                                                                                                                              0.243135\n",
       "  Mobile Developer, Game Developer                                                                                                                                                                                                                      0.228833\n",
       "  Data Scientist, Data Engineer                                                                                                                                                                                                                         0.228833\n",
       "                                                                                                                                                                                                                                                         ...    \n",
       "Full-Stack Web Developer,   Quality Assurance Engineer, Back-End Web Developer,   DevOps / SysAdmin,   Front-End Web Developer                                                                                                                          0.014302\n",
       "Full-Stack Web Developer,   Mobile Developer,   User Experience Designer, Data Engineer, Back-End Web Developer, Game Developer,   Data Scientist,   Front-End Web Developer                                                                            0.014302\n",
       "Back-End Web Developer,   Front-End Web Developer, Full-Stack Web Developer,   User Experience Designer, Game Developer                                                                                                                                 0.014302\n",
       "Back-End Web Developer,   Product Manager, Information Security                                                                                                                                                                                         0.014302\n",
       "  Data Scientist,   Front-End Web Developer, Back-End Web Developer, Data Engineer                                                                                                                                                                      0.014302\n",
       "  Quality Assurance Engineer, Back-End Web Developer, Full-Stack Web Developer,   Product Manager,   Data Scientist,   Front-End Web Developer, Information Security,   User Experience Designer                                                        0.014302\n",
       "  Front-End Web Developer,   User Experience Designer,   Mobile Developer,   Data Scientist, Back-End Web Developer, Full-Stack Web Developer,   Quality Assurance Engineer                                                                             0.014302\n",
       "  Front-End Web Developer, Back-End Web Developer, Full-Stack Web Developer, AI and neuroscience                                                                                                                                                        0.014302\n",
       "  Quality Assurance Engineer,   Front-End Web Developer,   User Experience Designer, Game Developer                                                                                                                                                     0.014302\n",
       "Data Engineer, Full-Stack Web Developer, Information Security,   DevOps / SysAdmin, Back-End Web Developer                                                                                                                                              0.014302\n",
       "Information Security,   Front-End Web Developer,   User Experience Designer                                                                                                                                                                             0.014302\n",
       "  Data Scientist, Information Security, Back-End Web Developer                                                                                                                                                                                          0.014302\n",
       "  Data Scientist, Data Engineer, Back-End Web Developer, Information Security, Game Developer,   Front-End Web Developer, Full-Stack Web Developer                                                                                                      0.014302\n",
       "  Front-End Web Developer, Data Engineer, Full-Stack Web Developer,   Data Scientist, Back-End Web Developer                                                                                                                                            0.014302\n",
       "  Mobile Developer,   User Experience Designer, Information Security,   Product Manager, Data Engineer,   Data Scientist, Full-Stack Web Developer, Game Developer, Back-End Web Developer,   Quality Assurance Engineer,   Front-End Web Developer     0.014302\n",
       "Information Security,   Product Manager, Full-Stack Web Developer,   DevOps / SysAdmin, Back-End Web Developer                                                                                                                                          0.014302\n",
       "  Front-End Web Developer,   Mobile Developer,   User Experience Designer, Full-Stack Web Developer, Game Developer,   Quality Assurance Engineer                                                                                                       0.014302\n",
       "Data Engineer,   Data Scientist, Information Security, Game Developer                                                                                                                                                                                   0.014302\n",
       "  Front-End Web Developer, Back-End Web Developer, Full-Stack Web Developer,   Mobile Developer,   Product Manager                                                                                                                                      0.014302\n",
       "  Mobile Developer, Full-Stack Web Developer,   User Experience Designer, Game Developer,   Front-End Web Developer                                                                                                                                     0.014302\n",
       "  Data Scientist,   User Experience Designer, Information Security, Game Developer, Full-Stack Web Developer, Data Engineer                                                                                                                             0.014302\n",
       "  Front-End Web Developer, Back-End Web Developer,   Mobile Developer, Data Engineer                                                                                                                                                                    0.014302\n",
       "Data Engineer, Game Developer, Full-Stack Web Developer,   Data Scientist,   Front-End Web Developer,   Mobile Developer, Back-End Web Developer                                                                                                        0.014302\n",
       "Game Developer,   Mobile Developer, Data Engineer,   User Experience Designer,   Product Manager,   DevOps / SysAdmin, Full-Stack Web Developer,   Front-End Web Developer, Back-End Web Developer                                                      0.014302\n",
       "Data Engineer, Game Developer,   Data Scientist,   Quality Assurance Engineer                                                                                                                                                                           0.014302\n",
       "Informatician                                                                                                                                                                                                                                           0.014302\n",
       "  User Experience Designer, Back-End Web Developer,   DevOps / SysAdmin, Full-Stack Web Developer,   Front-End Web Developer, Information Security                                                                                                      0.014302\n",
       "  Quality Assurance Engineer,   Mobile Developer, Full-Stack Web Developer, Back-End Web Developer,   Front-End Web Developer                                                                                                                           0.014302\n",
       "  Product Manager, Full-Stack Web Developer, Game Developer,   Mobile Developer                                                                                                                                                                         0.014302\n",
       "  Mobile Developer, Game Developer,   Data Scientist, Information Security, Full-Stack Web Developer,   DevOps / SysAdmin,   Product Manager, Data Engineer, Back-End Web Developer                                                                     0.014302\n",
       "Name: JobRoleInterest, Length: 3213, dtype: float64"
      ]
     },
     "execution_count": 55,
     "metadata": {},
     "output_type": "execute_result"
    }
   ],
   "source": [
    "job_interests = data['JobRoleInterest'].dropna()\n",
    "jobs_table = job_interests.value_counts(normalize=True) * 100\n",
    "jobs_table"
   ]
  },
  {
   "cell_type": "markdown",
   "metadata": {
    "collapsed": false
   },
   "source": [
    "Some people seem to be interested in more than one subject. Need to find how many people total are interested in web and/or mobile development."
   ]
  },
  {
   "cell_type": "code",
   "execution_count": 56,
   "metadata": {
    "collapsed": false
   },
   "outputs": [
    {
     "data": {
      "text/plain": [
       "1     31.650458\n",
       "3     15.889588\n",
       "4     15.217391\n",
       "5     12.042334\n",
       "2     10.883867\n",
       "6      6.721968\n",
       "7      3.861556\n",
       "8      1.759153\n",
       "9      0.986842\n",
       "10     0.471968\n",
       "12     0.300343\n",
       "11     0.185927\n",
       "13     0.028604\n",
       "Name: JobRoleInterest, dtype: float64"
      ]
     },
     "execution_count": 56,
     "metadata": {},
     "output_type": "execute_result"
    }
   ],
   "source": [
    "job_interests_split = job_interests.str.split(',')\n",
    "num_subjects = job_interests_split.apply(lambda x: len(x))\n",
    "num_subjects_table = num_subjects.value_counts(normalize=True)*100\n",
    "num_subjects_table"
   ]
  },
  {
   "cell_type": "markdown",
   "metadata": {
    "collapsed": true
   },
   "source": [
    "About 32% of people are certain which subject they're interested in. "
   ]
  },
  {
   "cell_type": "code",
   "execution_count": 57,
   "metadata": {
    "collapsed": false
   },
   "outputs": [
    {
     "data": {
      "text/plain": [
       "True     86.298627\n",
       "False    13.701373\n",
       "Name: JobRoleInterest, dtype: float64"
      ]
     },
     "execution_count": 57,
     "metadata": {},
     "output_type": "execute_result"
    }
   ],
   "source": [
    "web_mobile = job_interests.str.contains('Web|Mobile')\n",
    "web_mobile_table = web_mobile.value_counts(normalize=True) * 100\n",
    "web_mobile_table"
   ]
  },
  {
   "cell_type": "markdown",
   "metadata": {},
   "source": [
    "86% of people indicated that they're interested in either web or mobile development"
   ]
  },
  {
   "cell_type": "code",
   "execution_count": 58,
   "metadata": {
    "collapsed": false
   },
   "outputs": [
    {
     "data": {
      "image/png": "[encoded data removed]",
      "text/plain": [
       "<matplotlib.figure.Figure at 0x7f0a0cd412b0>"
      ]
     },
     "metadata": {},
     "output_type": "display_data"
    }
   ],
   "source": [
    "plt.style.use('fivethirtyeight')\n",
    "web_mobile_table.plot.bar(figsize=(8,6))\n",
    "\n",
    "plt.title('Percent of people interested in web/mobile', y=1.05)\n",
    "plt.ylabel('%')\n",
    "plt.xticks([0,1],['Web/Mobile', 'Other'], rotation = 0)\n",
    "plt.ylim([0,100])\n",
    "plt.show()"
   ]
  },
  {
   "cell_type": "code",
   "execution_count": 59,
   "metadata": {
    "collapsed": false
   },
   "outputs": [
    {
     "data": {
      "text/html": [
       "<div>\n",
       "<style scoped>\n",
       "    .dataframe tbody tr th:only-of-type {\n",
       "        vertical-align: middle;\n",
       "    }\n",
       "\n",
       "    .dataframe tbody tr th {\n",
       "        vertical-align: top;\n",
       "    }\n",
       "\n",
       "    .dataframe thead th {\n",
       "        text-align: right;\n",
       "    }\n",
       "</style>\n",
       "<table border=\"1\" class=\"dataframe\">\n",
       "  <thead>\n",
       "    <tr style=\"text-align: right;\">\n",
       "      <th></th>\n",
       "      <th>Counts</th>\n",
       "      <th>Percentage</th>\n",
       "    </tr>\n",
       "  </thead>\n",
       "  <tbody>\n",
       "    <tr>\n",
       "      <th>United States of America</th>\n",
       "      <td>3125</td>\n",
       "      <td>45.700497</td>\n",
       "    </tr>\n",
       "    <tr>\n",
       "      <th>India</th>\n",
       "      <td>528</td>\n",
       "      <td>7.721556</td>\n",
       "    </tr>\n",
       "    <tr>\n",
       "      <th>United Kingdom</th>\n",
       "      <td>315</td>\n",
       "      <td>4.606610</td>\n",
       "    </tr>\n",
       "    <tr>\n",
       "      <th>Canada</th>\n",
       "      <td>260</td>\n",
       "      <td>3.802281</td>\n",
       "    </tr>\n",
       "    <tr>\n",
       "      <th>Poland</th>\n",
       "      <td>131</td>\n",
       "      <td>1.915765</td>\n",
       "    </tr>\n",
       "    <tr>\n",
       "      <th>Brazil</th>\n",
       "      <td>129</td>\n",
       "      <td>1.886517</td>\n",
       "    </tr>\n",
       "    <tr>\n",
       "      <th>Germany</th>\n",
       "      <td>125</td>\n",
       "      <td>1.828020</td>\n",
       "    </tr>\n",
       "    <tr>\n",
       "      <th>Australia</th>\n",
       "      <td>112</td>\n",
       "      <td>1.637906</td>\n",
       "    </tr>\n",
       "    <tr>\n",
       "      <th>Russia</th>\n",
       "      <td>102</td>\n",
       "      <td>1.491664</td>\n",
       "    </tr>\n",
       "    <tr>\n",
       "      <th>Ukraine</th>\n",
       "      <td>89</td>\n",
       "      <td>1.301550</td>\n",
       "    </tr>\n",
       "    <tr>\n",
       "      <th>Nigeria</th>\n",
       "      <td>84</td>\n",
       "      <td>1.228429</td>\n",
       "    </tr>\n",
       "    <tr>\n",
       "      <th>Spain</th>\n",
       "      <td>77</td>\n",
       "      <td>1.126060</td>\n",
       "    </tr>\n",
       "    <tr>\n",
       "      <th>France</th>\n",
       "      <td>75</td>\n",
       "      <td>1.096812</td>\n",
       "    </tr>\n",
       "    <tr>\n",
       "      <th>Romania</th>\n",
       "      <td>71</td>\n",
       "      <td>1.038315</td>\n",
       "    </tr>\n",
       "    <tr>\n",
       "      <th>Netherlands (Holland, Europe)</th>\n",
       "      <td>65</td>\n",
       "      <td>0.950570</td>\n",
       "    </tr>\n",
       "    <tr>\n",
       "      <th>Italy</th>\n",
       "      <td>62</td>\n",
       "      <td>0.906698</td>\n",
       "    </tr>\n",
       "    <tr>\n",
       "      <th>Philippines</th>\n",
       "      <td>52</td>\n",
       "      <td>0.760456</td>\n",
       "    </tr>\n",
       "    <tr>\n",
       "      <th>Serbia</th>\n",
       "      <td>52</td>\n",
       "      <td>0.760456</td>\n",
       "    </tr>\n",
       "    <tr>\n",
       "      <th>Greece</th>\n",
       "      <td>46</td>\n",
       "      <td>0.672711</td>\n",
       "    </tr>\n",
       "    <tr>\n",
       "      <th>Ireland</th>\n",
       "      <td>43</td>\n",
       "      <td>0.628839</td>\n",
       "    </tr>\n",
       "    <tr>\n",
       "      <th>South Africa</th>\n",
       "      <td>39</td>\n",
       "      <td>0.570342</td>\n",
       "    </tr>\n",
       "    <tr>\n",
       "      <th>Mexico</th>\n",
       "      <td>37</td>\n",
       "      <td>0.541094</td>\n",
       "    </tr>\n",
       "    <tr>\n",
       "      <th>Turkey</th>\n",
       "      <td>36</td>\n",
       "      <td>0.526470</td>\n",
       "    </tr>\n",
       "    <tr>\n",
       "      <th>Singapore</th>\n",
       "      <td>34</td>\n",
       "      <td>0.497221</td>\n",
       "    </tr>\n",
       "    <tr>\n",
       "      <th>Hungary</th>\n",
       "      <td>34</td>\n",
       "      <td>0.497221</td>\n",
       "    </tr>\n",
       "    <tr>\n",
       "      <th>New Zealand</th>\n",
       "      <td>33</td>\n",
       "      <td>0.482597</td>\n",
       "    </tr>\n",
       "    <tr>\n",
       "      <th>Croatia</th>\n",
       "      <td>32</td>\n",
       "      <td>0.467973</td>\n",
       "    </tr>\n",
       "    <tr>\n",
       "      <th>Argentina</th>\n",
       "      <td>32</td>\n",
       "      <td>0.467973</td>\n",
       "    </tr>\n",
       "    <tr>\n",
       "      <th>Pakistan</th>\n",
       "      <td>31</td>\n",
       "      <td>0.453349</td>\n",
       "    </tr>\n",
       "    <tr>\n",
       "      <th>Sweden</th>\n",
       "      <td>31</td>\n",
       "      <td>0.453349</td>\n",
       "    </tr>\n",
       "    <tr>\n",
       "      <th>...</th>\n",
       "      <td>...</td>\n",
       "      <td>...</td>\n",
       "    </tr>\n",
       "    <tr>\n",
       "      <th>Guatemala</th>\n",
       "      <td>1</td>\n",
       "      <td>0.014624</td>\n",
       "    </tr>\n",
       "    <tr>\n",
       "      <th>Trinidad &amp; Tobago</th>\n",
       "      <td>1</td>\n",
       "      <td>0.014624</td>\n",
       "    </tr>\n",
       "    <tr>\n",
       "      <th>Anguilla</th>\n",
       "      <td>1</td>\n",
       "      <td>0.014624</td>\n",
       "    </tr>\n",
       "    <tr>\n",
       "      <th>Cameroon</th>\n",
       "      <td>1</td>\n",
       "      <td>0.014624</td>\n",
       "    </tr>\n",
       "    <tr>\n",
       "      <th>Angola</th>\n",
       "      <td>1</td>\n",
       "      <td>0.014624</td>\n",
       "    </tr>\n",
       "    <tr>\n",
       "      <th>Guadeloupe</th>\n",
       "      <td>1</td>\n",
       "      <td>0.014624</td>\n",
       "    </tr>\n",
       "    <tr>\n",
       "      <th>Yemen</th>\n",
       "      <td>1</td>\n",
       "      <td>0.014624</td>\n",
       "    </tr>\n",
       "    <tr>\n",
       "      <th>Myanmar</th>\n",
       "      <td>1</td>\n",
       "      <td>0.014624</td>\n",
       "    </tr>\n",
       "    <tr>\n",
       "      <th>Cuba</th>\n",
       "      <td>1</td>\n",
       "      <td>0.014624</td>\n",
       "    </tr>\n",
       "    <tr>\n",
       "      <th>Botswana</th>\n",
       "      <td>1</td>\n",
       "      <td>0.014624</td>\n",
       "    </tr>\n",
       "    <tr>\n",
       "      <th>Cayman Islands</th>\n",
       "      <td>1</td>\n",
       "      <td>0.014624</td>\n",
       "    </tr>\n",
       "    <tr>\n",
       "      <th>Kyrgyzstan</th>\n",
       "      <td>1</td>\n",
       "      <td>0.014624</td>\n",
       "    </tr>\n",
       "    <tr>\n",
       "      <th>Samoa</th>\n",
       "      <td>1</td>\n",
       "      <td>0.014624</td>\n",
       "    </tr>\n",
       "    <tr>\n",
       "      <th>Gambia</th>\n",
       "      <td>1</td>\n",
       "      <td>0.014624</td>\n",
       "    </tr>\n",
       "    <tr>\n",
       "      <th>Jordan</th>\n",
       "      <td>1</td>\n",
       "      <td>0.014624</td>\n",
       "    </tr>\n",
       "    <tr>\n",
       "      <th>Aruba</th>\n",
       "      <td>1</td>\n",
       "      <td>0.014624</td>\n",
       "    </tr>\n",
       "    <tr>\n",
       "      <th>Rwanda</th>\n",
       "      <td>1</td>\n",
       "      <td>0.014624</td>\n",
       "    </tr>\n",
       "    <tr>\n",
       "      <th>Qatar</th>\n",
       "      <td>1</td>\n",
       "      <td>0.014624</td>\n",
       "    </tr>\n",
       "    <tr>\n",
       "      <th>Sudan</th>\n",
       "      <td>1</td>\n",
       "      <td>0.014624</td>\n",
       "    </tr>\n",
       "    <tr>\n",
       "      <th>Panama</th>\n",
       "      <td>1</td>\n",
       "      <td>0.014624</td>\n",
       "    </tr>\n",
       "    <tr>\n",
       "      <th>Mozambique</th>\n",
       "      <td>1</td>\n",
       "      <td>0.014624</td>\n",
       "    </tr>\n",
       "    <tr>\n",
       "      <th>Bolivia</th>\n",
       "      <td>1</td>\n",
       "      <td>0.014624</td>\n",
       "    </tr>\n",
       "    <tr>\n",
       "      <th>Gibraltar</th>\n",
       "      <td>1</td>\n",
       "      <td>0.014624</td>\n",
       "    </tr>\n",
       "    <tr>\n",
       "      <th>Vanuatu</th>\n",
       "      <td>1</td>\n",
       "      <td>0.014624</td>\n",
       "    </tr>\n",
       "    <tr>\n",
       "      <th>Nambia</th>\n",
       "      <td>1</td>\n",
       "      <td>0.014624</td>\n",
       "    </tr>\n",
       "    <tr>\n",
       "      <th>Turkmenistan</th>\n",
       "      <td>1</td>\n",
       "      <td>0.014624</td>\n",
       "    </tr>\n",
       "    <tr>\n",
       "      <th>Liberia</th>\n",
       "      <td>1</td>\n",
       "      <td>0.014624</td>\n",
       "    </tr>\n",
       "    <tr>\n",
       "      <th>Papua New Guinea</th>\n",
       "      <td>1</td>\n",
       "      <td>0.014624</td>\n",
       "    </tr>\n",
       "    <tr>\n",
       "      <th>Somalia</th>\n",
       "      <td>1</td>\n",
       "      <td>0.014624</td>\n",
       "    </tr>\n",
       "    <tr>\n",
       "      <th>Channel Islands</th>\n",
       "      <td>1</td>\n",
       "      <td>0.014624</td>\n",
       "    </tr>\n",
       "  </tbody>\n",
       "</table>\n",
       "<p>137 rows × 2 columns</p>\n",
       "</div>"
      ],
      "text/plain": [
       "                               Counts  Percentage\n",
       "United States of America         3125   45.700497\n",
       "India                             528    7.721556\n",
       "United Kingdom                    315    4.606610\n",
       "Canada                            260    3.802281\n",
       "Poland                            131    1.915765\n",
       "Brazil                            129    1.886517\n",
       "Germany                           125    1.828020\n",
       "Australia                         112    1.637906\n",
       "Russia                            102    1.491664\n",
       "Ukraine                            89    1.301550\n",
       "Nigeria                            84    1.228429\n",
       "Spain                              77    1.126060\n",
       "France                             75    1.096812\n",
       "Romania                            71    1.038315\n",
       "Netherlands (Holland, Europe)      65    0.950570\n",
       "Italy                              62    0.906698\n",
       "Philippines                        52    0.760456\n",
       "Serbia                             52    0.760456\n",
       "Greece                             46    0.672711\n",
       "Ireland                            43    0.628839\n",
       "South Africa                       39    0.570342\n",
       "Mexico                             37    0.541094\n",
       "Turkey                             36    0.526470\n",
       "Singapore                          34    0.497221\n",
       "Hungary                            34    0.497221\n",
       "New Zealand                        33    0.482597\n",
       "Croatia                            32    0.467973\n",
       "Argentina                          32    0.467973\n",
       "Pakistan                           31    0.453349\n",
       "Sweden                             31    0.453349\n",
       "...                               ...         ...\n",
       "Guatemala                           1    0.014624\n",
       "Trinidad & Tobago                   1    0.014624\n",
       "Anguilla                            1    0.014624\n",
       "Cameroon                            1    0.014624\n",
       "Angola                              1    0.014624\n",
       "Guadeloupe                          1    0.014624\n",
       "Yemen                               1    0.014624\n",
       "Myanmar                             1    0.014624\n",
       "Cuba                                1    0.014624\n",
       "Botswana                            1    0.014624\n",
       "Cayman Islands                      1    0.014624\n",
       "Kyrgyzstan                          1    0.014624\n",
       "Samoa                               1    0.014624\n",
       "Gambia                              1    0.014624\n",
       "Jordan                              1    0.014624\n",
       "Aruba                               1    0.014624\n",
       "Rwanda                              1    0.014624\n",
       "Qatar                               1    0.014624\n",
       "Sudan                               1    0.014624\n",
       "Panama                              1    0.014624\n",
       "Mozambique                          1    0.014624\n",
       "Bolivia                             1    0.014624\n",
       "Gibraltar                           1    0.014624\n",
       "Vanuatu                             1    0.014624\n",
       "Nambia                              1    0.014624\n",
       "Turkmenistan                        1    0.014624\n",
       "Liberia                             1    0.014624\n",
       "Papua New Guinea                    1    0.014624\n",
       "Somalia                             1    0.014624\n",
       "Channel Islands                     1    0.014624\n",
       "\n",
       "[137 rows x 2 columns]"
      ]
     },
     "execution_count": 59,
     "metadata": {},
     "output_type": "execute_result"
    }
   ],
   "source": [
    "cleaned = data[data['JobRoleInterest'].notnull()].copy()\n",
    "relative = cleaned['CountryLive'].value_counts(normalize=True) * 100\n",
    "absolute = cleaned['CountryLive'].value_counts()\n",
    "pd.DataFrame(data={'Percentage': relative, 'Counts': absolute})"
   ]
  },
  {
   "cell_type": "markdown",
   "metadata": {},
   "source": [
    "Based on the results, the US and India are the largest markets. Going in depth is necessary as there may be other factors that could influence chosen markets."
   ]
  },
  {
   "cell_type": "code",
   "execution_count": 60,
   "metadata": {
    "collapsed": false
   },
   "outputs": [],
   "source": [
    "cleaned['MonthsProgramming'].replace(0, 1, inplace=True)\n",
    "cleaned['Money_per_month'] = cleaned['MoneyForLearning'] / cleaned['MonthsProgramming']\n",
    "cleaned = cleaned[cleaned['Money_per_month'].notnull()]\n",
    "cleaned = cleaned[cleaned['CountryLive'].notnull()]"
   ]
  },
  {
   "cell_type": "code",
   "execution_count": 61,
   "metadata": {
    "collapsed": false,
    "scrolled": true
   },
   "outputs": [
    {
     "data": {
      "text/plain": [
       "CountryLive\n",
       "Afghanistan                     0.000000\n",
       "Albania                         7.111111\n",
       "Algeria                         0.000000\n",
       "Angola                        116.666667\n",
       "Anguilla                        0.000000\n",
       "Argentina                      55.984444\n",
       "Australia                     419.268452\n",
       "Austria                       936.208333\n",
       "Azerbaijan                     25.555556\n",
       "Bahrain                         0.000000\n",
       "Bangladesh                    239.361883\n",
       "Belarus                        21.323854\n",
       "Belgium                        53.774510\n",
       "Bosnia & Herzegovina           19.807540\n",
       "Botswana                        0.000000\n",
       "Brazil                         56.239402\n",
       "Bulgaria                       75.833333\n",
       "Cambodia                       10.079365\n",
       "Cameroon                        0.946970\n",
       "Canada                        113.510961\n",
       "Cayman Islands                  0.000000\n",
       "Channel Islands                 0.000000\n",
       "Chile                         300.416667\n",
       "China                         236.441270\n",
       "Colombia                       60.399660\n",
       "Costa Rica                     28.111111\n",
       "Croatia                        31.674298\n",
       "Cuba                            0.000000\n",
       "Cyprus                         17.395833\n",
       "Czech Republic                 40.038767\n",
       "                                ...     \n",
       "Senegal                        80.595238\n",
       "Serbia                         77.626263\n",
       "Singapore                      51.618774\n",
       "Slovakia                       29.738095\n",
       "Slovenia                       18.425926\n",
       "Somalia                       150.000000\n",
       "South Africa                   75.043561\n",
       "Spain                         784.553084\n",
       "Sri Lanka                      26.607143\n",
       "Sweden                         35.413206\n",
       "Switzerland                    35.530045\n",
       "Taiwan                        417.966524\n",
       "Thailand                       11.166314\n",
       "Trinidad & Tobago             500.000000\n",
       "Tunisia                        18.000000\n",
       "Turkey                         71.451613\n",
       "Turkmenistan                    0.000000\n",
       "Uganda                        276.620370\n",
       "Ukraine                        54.314874\n",
       "United Arab Emirates           94.583333\n",
       "United Kingdom                 45.534443\n",
       "United States of America      227.997996\n",
       "Uruguay                         8.333333\n",
       "Uzbekistan                      3.333333\n",
       "Vanuatu                         0.000000\n",
       "Venezuela                      11.923077\n",
       "Vietnam                       243.324074\n",
       "Virgin Islands (USA)           60.416667\n",
       "Yemen                       10000.000000\n",
       "Zimbabwe                       23.125000\n",
       "Name: Money_per_month, Length: 131, dtype: float64"
      ]
     },
     "execution_count": 61,
     "metadata": {},
     "output_type": "execute_result"
    }
   ],
   "source": [
    "mean_spent = cleaned.groupby('CountryLive').mean()\n",
    "mean_spent['Money_per_month']"
   ]
  },
  {
   "cell_type": "markdown",
   "metadata": {},
   "source": [
    "Some countries seem to spend a lot more money than other more wealthy countries."
   ]
  },
  {
   "cell_type": "code",
   "execution_count": 62,
   "metadata": {
    "collapsed": false
   },
   "outputs": [
    {
     "name": "stderr",
     "output_type": "stream",
     "text": [
      "/dataquest/system/env/python3/lib/python3.4/site-packages/seaborn/categorical.py:454: FutureWarning: remove_na is deprecated and is a private function. Do not use.\n",
      "  box_data = remove_na(group_data)\n"
     ]
    },
    {
     "data": {
      "image/png": "[encoded data removed]",
      "text/plain": [
       "<matplotlib.figure.Figure at 0x7f0a0cd82048>"
      ]
     },
     "metadata": {},
     "output_type": "display_data"
    }
   ],
   "source": [
    "import seaborn as sns\n",
    "\n",
    "countries = cleaned[cleaned['CountryLive'].str.contains(\n",
    "    'United States of America|India|United Kingdom|Canada')]\n",
    "sns.boxplot(x='CountryLive', y='Money_per_month', data=countries)\n",
    "\n",
    "plt.title('Money spent per month for selected countries', y=1.05)\n",
    "plt.show()"
   ]
  },
  {
   "cell_type": "markdown",
   "metadata": {},
   "source": [
    "Some extreme outliers seem to exist for USA spending."
   ]
  },
  {
   "cell_type": "code",
   "execution_count": 64,
   "metadata": {
    "collapsed": false
   },
   "outputs": [
    {
     "name": "stderr",
     "output_type": "stream",
     "text": [
      "/dataquest/system/env/python3/lib/python3.4/site-packages/seaborn/categorical.py:454: FutureWarning: remove_na is deprecated and is a private function. Do not use.\n",
      "  box_data = remove_na(group_data)\n"
     ]
    },
    {
     "data": {
      "image/png": "[encoded data removed]",
      "text/plain": [
       "<matplotlib.figure.Figure at 0x7f0a0cd89208>"
      ]
     },
     "metadata": {},
     "output_type": "display_data"
    }
   ],
   "source": [
    "cleaned = cleaned[cleaned['Money_per_month'] < 500]\n",
    "mean_spent = cleaned.groupby('CountryLive').mean()\n",
    "countries = cleaned[cleaned['CountryLive'].str.contains(\n",
    "    'United States of America|India|United Kingdom|Canada')]\n",
    "sns.boxplot(x='CountryLive', y='Money_per_month', data=countries)\n",
    "\n",
    "plt.title('Money spent per month for selected countries', y=1.05)\n",
    "plt.show()"
   ]
  },
  {
   "cell_type": "markdown",
   "metadata": {},
   "source": [
    "Even after removing very extreme outliers, there still exists a large variety of values for each country. It's relatively unclear which markets are the best other than for sure the US."
   ]
  },
  {
   "cell_type": "code",
   "execution_count": null,
   "metadata": {
    "collapsed": true
   },
   "outputs": [],
   "source": []
  }
 ],
 "metadata": {
  "kernelspec": {
   "display_name": "Python 3",
   "language": "python",
   "name": "python3"
  },
  "language_info": {
   "codemirror_mode": {
    "name": "ipython",
    "version": 3
   },
   "file_extension": ".py",
   "mimetype": "text/x-python",
   "name": "python",
   "nbconvert_exporter": "python",
   "pygments_lexer": "ipython3",
   "version": "3.4.3"
  }
 },
 "nbformat": 4,
 "nbformat_minor": 2
}
